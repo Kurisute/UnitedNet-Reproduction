{
 "cells": [
  {
   "cell_type": "markdown",
   "metadata": {
    "id": "39Rn77clmg9s"
   },
   "source": [
    "# preprocess"
   ]
  },
  {
   "cell_type": "code",
   "execution_count": null,
   "metadata": {
    "executionInfo": {
     "elapsed": 13956,
     "status": "ok",
     "timestamp": 1671164708535,
     "user": {
      "displayName": "Xin Tang",
      "userId": "08807295460442877832"
     },
     "user_tz": 300
    },
    "id": "JrDU0pqvI73Y"
   },
   "outputs": [],
   "source": [
    "import anndata as ad\n",
    "import numpy as np\n",
    "import scanpy as sc\n",
    "import pandas as pd\n",
    "from scipy.stats import spearmanr, pearsonr\n",
    "import matplotlib.pyplot as plt\n",
    "import seaborn as sns\n",
    "from sklearn.metrics import adjusted_rand_score, confusion_matrix\n",
    "from scipy.optimize import linear_sum_assignment\n",
    "\n",
    "import sys\n",
    "sys.path.append('..')\n",
    "from src.interface import UnitedNet\n",
    "from src.configs import *\n",
    "from src.data import partitions,save_umap,generate_adata,patch_seq_pre_ps\n",
    "from src.scripts import ordered_cmat,assignmene_align\n",
    "import copy as copy\n",
    "\n",
    "\n",
    "from sklearn.utils.multiclass import unique_labels\n",
    "from sklearn.metrics import accuracy_score,adjusted_rand_score\n",
    "\n",
    "import shap\n",
    "import torch\n",
    "import torch.nn as nn\n",
    "from src.modules import submodel_trans, submodel_clus\n",
    "from src.data import save_obj, load_obj, partitions, type_specific_mean\n",
    "from src.plots import markers_chord_plot,type_relevance_chord_plot,feature_relevance_chord_plot,merge_sub_feature,merge_sub_feature_all\n",
    "\n"
   ]
  },
  {
   "cell_type": "code",
   "execution_count": null,
   "metadata": {
    "executionInfo": {
     "elapsed": 1510,
     "status": "ok",
     "timestamp": 1671164710604,
     "user": {
      "displayName": "Xin Tang",
      "userId": "08807295460442877832"
     },
     "user_tz": 300
    },
    "id": "W2DjFHBci_Cj"
   },
   "outputs": [],
   "source": [
    "technique = 'patchseq'\n",
    "data_path = f\"../data/{technique}\"\n",
    "device = \"cuda:0\"\n",
    "root_save_path = f\"../saved_results/{technique}\"\n",
    "#load data\n",
    "adata_rna_raw = sc.read_h5ad(f'{data_path}/adata_RNA_TEM.h5ad')\n",
    "adata_ephys_raw = sc.read_h5ad(f'{data_path}/adata_Ephys_TEM.h5ad')\n",
    "adata_morph_raw = sc.read_h5ad(f'{data_path}/adata_Morph_TEM.h5ad')\n",
    "ind_dict = partitions(adata_rna_raw.obs['cell_type_TEM'], n_partitions=10, seed=0)\n"
   ]
  },
  {
   "cell_type": "code",
   "execution_count": null,
   "metadata": {
    "id": "ylWon5yIrBxy"
   },
   "outputs": [],
   "source": []
  },
  {
   "cell_type": "markdown",
   "metadata": {
    "id": "U17gKT4kI73f"
   },
   "source": [
    "# patch-seq data adaptive weight"
   ]
  },
  {
   "cell_type": "code",
   "execution_count": null,
   "metadata": {
    "id": "IZ-W_RCogwuU"
   },
   "outputs": [],
   "source": [
    "train = False\n",
    "for cv in range(9,10):\n",
    "    root_save_path = f\"./saved_results/{technique}_{cv}\"\n",
    "    model = UnitedNet(root_save_path, device=device, technique=patchseq_config)\n",
    "    _,_,adatas_all = patch_seq_pre_ps(adata_rna_raw,adata_ephys_raw,adata_morph_raw,cv,ind_dict,split=False)"
   ]
  },
  {
   "cell_type": "code",
   "execution_count": null,
   "metadata": {
    "colab": {
     "base_uri": "https://localhost:8080/"
    },
    "executionInfo": {
     "elapsed": 1146881,
     "status": "ok",
     "timestamp": 1665082030047,
     "user": {
      "displayName": "Xin Tang",
      "userId": "08807295460442877832"
     },
     "user_tz": 240
    },
    "id": "Za5PQuBXI73g",
    "outputId": "2a941b71-5f7f-4b3c-ee66-df152f904e1c"
   },
   "outputs": [],
   "source": [
    "if train:\n",
    "    for cv in range(10):\n",
    "        adatas_train,adatas_test,_ = patch_seq_pre_ps(adata_rna_raw,adata_ephys_raw,adata_morph_raw,cv,ind_dict,split=True)\n",
    "        root_save_path = f\"./saved_results/{technique}_{cv}\"\n",
    "        model = UnitedNet(root_save_path, device=device, technique=patchseq_config)\n",
    "        model.train(adatas_train,adatas_val = adatas_test)\n",
    "\n",
    "        print(model.evaluate(adatas_test))\n",
    "        _,_,adatas_all = patch_seq_pre_ps(adata_rna_raw,adata_ephys_raw,adata_morph_raw,cv,ind_dict,split=False)\n",
    "        model.load_model(f\"{root_save_path}/train_best.pt\",device=torch.device(device))\n",
    "        model.model.device_in_use = device\n",
    "        model.model.config['train_task'] = \"unsupervised_group_identification\"\n",
    "        model.model.config['train_epochs'] = 20\n",
    "        model.train(adatas_all,verbose=True,init_classify=True)\n",
    "else:\n",
    "    for cv in range(10):\n",
    "        root_save_path = f\"./saved_results/{technique}_{cv}\"\n",
    "        model = UnitedNet(root_save_path, device=device, technique=patchseq_config)\n",
    "        _,_,adatas_all = patch_seq_pre_ps(adata_rna_raw,adata_ephys_raw,adata_morph_raw,cv,ind_dict,split=False)\n"
   ]
  },
  {
   "cell_type": "markdown",
   "metadata": {
    "id": "poCVa4KViSZJ"
   },
   "source": [
    "# Robustness analysis for the relevance analysis: feature calculation"
   ]
  },
  {
   "cell_type": "code",
   "execution_count": null,
   "metadata": {
    "executionInfo": {
     "elapsed": 8,
     "status": "ok",
     "timestamp": 1670567566324,
     "user": {
      "displayName": "Xin Tang",
      "userId": "08807295460442877832"
     },
     "user_tz": 300
    },
    "id": "Yabv2YJ0K8XX"
   },
   "outputs": [],
   "source": [
    "accuracy_matching,type_feature_shap_values = [], []\n",
    "type_feature, type_feature_major, feature_relevance = {},{},{}\n",
    "c_v_values_01_all, io_names_01_all,c_v_values_02_all, io_names_02_all = {},{},{},{}"
   ]
  },
  {
   "cell_type": "code",
   "execution_count": null,
   "metadata": {
    "colab": {
     "background_save": true,
     "base_uri": "https://localhost:8080/",
     "output_embedded_package_id": "1EPGwaW305erVpv3y3gbm9-0NGPFq3Dqd"
    },
    "id": "gWuSkse9i5ez",
    "outputId": "5a3fd51f-76d3-47d4-b331-60418dae7684"
   },
   "outputs": [],
   "source": [
    "\n",
    "for cv in range(10):\n",
    "    print(f'++++++++++++++ the current cv is {cv} ++++++++++++++')\n",
    "    root_save_path = f\"./saved_results/{technique}_{cv}\"\n",
    "    model = UnitedNet(root_save_path, device=device, technique=patchseq_config)\n",
    "    _,_,adatas_all = patch_seq_pre_ps(adata_rna_raw,adata_ephys_raw,adata_morph_raw,cv,ind_dict,split=False)\n",
    "\n",
    "    model.load_model(f\"{root_save_path}/train_best.pt\",device=torch.device(device))\n",
    "    model.model.device_in_use = device\n",
    "    losses = model.evaluate(adatas_all,give_losses=True,stage='train')\n",
    "    predict_label = model.predict_label(adatas_all)\n",
    "    adata_fused = model.infer(adatas_all)\n",
    "    adata_fused.obs['label'] = list(adatas_all[0].obs['label'])\n",
    "    adata_fused.obs['label_less'] = [ct.split('-')[0] for ct in adata_fused.obs['label'].values]\n",
    "\n",
    "\n",
    "    pseudo_label = np.array(adata_fused.obs['predicted_label'].values)\n",
    "    cmat = confusion_matrix(adata_fused.obs['label'], pseudo_label)\n",
    "    ri, ci = linear_sum_assignment(-cmat)\n",
    "    ordered_all = cmat[np.ix_(ri, ci)]\n",
    "    major_sub_names = {}\n",
    "    pred_labels_re_order = copy.deepcopy(pseudo_label)\n",
    "    lb_cor_dict = {}\n",
    "    for re_oder,(lb_correct,lb) in enumerate(zip(unique_labels(adata_fused.obs['label'], pseudo_label)[ri],\n",
    "                                    unique_labels(adata_fused.obs['label'], pseudo_label)[ci])):\n",
    "      idx = pseudo_label==lb\n",
    "      if any(idx):\n",
    "        nm = '-'.join(lb_correct.split('-')[:-1])\n",
    "        if nm in major_sub_names.keys():\n",
    "          major_sub_names[nm]+=1\n",
    "        else:\n",
    "          major_sub_names[nm]=1\n",
    "        lb_cor_dict[lb]=lb_correct\n",
    "        pred_labels_re_order[idx] = f'{nm}-{major_sub_names[nm]}-Uni'\n",
    "        \n",
    "\n",
    "    adata_fused.obs['predicted_label'] = pred_labels_re_order\n",
    "    adata_fused.obs['predicted_label_less'] = [ct.split('-')[0] for ct in adata_fused.obs['predicted_label'].values]\n",
    "\n",
    "    accuracy_matching.append([adjusted_rand_score(adata_fused.obs['label_less'], adata_fused.obs['predicted_label_less']),adjusted_rand_score(adata_fused.obs['label'], adata_fused.obs['predicted_label'])])\n",
    "\n",
    "\n",
    "    calculate_shap=False\n",
    "    cluster_prototype_features = [torch.tensor(ad_x.X[ind_dict[cv]['train']],device=model.device) for ad_x in adatas_all]\n",
    "    modality_names = ['RNA','ephys','morph']\n",
    "\n",
    "    shap_value_target = {}\n",
    "\n",
    "    top_features_num = 1000\n",
    "    new_features = True\n",
    "    top_features = {}\n",
    "    ct_num = 27\n",
    "    root_save_path_relev = f'{root_save_path}/type_relevance_cv_{cv}'\n",
    "    if calculate_shap:\n",
    "        sub = submodel_clus(model.model).to(model.device)\n",
    "        # select a set of background examples to take an expectation over\n",
    "        background = cluster_prototype_features\n",
    "        e = shap.DeepExplainer(sub, background)\n",
    "        # choose what to explain\n",
    "        test_type = [torch.tensor(ad_x.X[ind_dict[cv]['val']],device=model.device) for ad_x in adatas_all]\n",
    "        shap_values = e.shap_values(test_type,check_additivity=True)\n",
    "        save_obj(root_save_path_relev,f'type_explain',shap_values)\n",
    "    else:\n",
    "        shap_values = load_obj(root_save_path_relev,f'type_explain', ct_num,\n",
    "                              [ads.shape for ads in adatas_all],type_rele=True,mod_num=3)\n",
    "    \n",
    "    type_feature_shap_values.append(shap_values)\n",
    "    predict_label_sub = [ct.split('-')[0] for ct in adatas_all[0].obs['label']]\n",
    "    \n",
    "    major_dict = dict(zip(adata_fused.obs['predicted_label'].values,adata_fused.obs['predicted_label_less'].values))\n",
    "    predict_label_anno = pred_labels_re_order\n",
    "\n",
    "\n",
    "    adatas_all_new,p_fe,p_fe_idx,p_l_less,pr_ty_dict = markers_chord_plot(adatas_all,predict_label,predict_label_anno,major_dict)\n",
    "    all_less_type = np.unique(p_l_less)\n",
    "\n",
    "    if 'predicted_label_colors' not in adata_fused.uns.keys():\n",
    "        sc.pl.umap(adata_fused,color=['predicted_label'],palette='rainbow',show=False,title='')\n",
    "    colors_type = dict(zip(adata_fused.obs['predicted_label'].cat.categories,adata_fused.uns['predicted_label_colors']))\n",
    "    all_type_features = type_relevance_chord_plot(shap_values, p_fe, p_fe_idx, p_l_less,predict_label, colors_type, all_less_type,technique,\n",
    "                                  pr_ty_dict,thres=7,only_show_good=True, linewidth=1, linecolormap='Reds', node_width=5,\n",
    "                                  potential_coloarmaps=['spring', 'summer', 'winter', 'autumn'])\n",
    "    type_feature[cv] = all_type_features\n",
    "    all_type_features_mj = merge_sub_feature(all_type_features,major_dict)\n",
    "    type_feature_major[cv] = all_type_features_mj\n",
    "\n",
    "    calculate_shap=False\n",
    "    cluster_prototype_features = [torch.tensor(type_specific_mean(ad_x,'label'),device=model.device) for ad_x in adatas_all]\n",
    "    modality_names = ['RNA','ephys','morph']\n",
    "    target_explain = [[0,1],[0,2]]\n",
    "    shap_value_target = {}\n",
    "\n",
    "    top_features_num = 1000\n",
    "    new_features = True\n",
    "    top_features = {}\n",
    "    for t_exp in target_explain:\n",
    "        in_m = 0\n",
    "        root_save_path_relev = f'{root_save_path}/feature_relevance_{t_exp[in_m]}_{t_exp[0 if in_m else 1]}_cv{cv}'\n",
    "        if calculate_shap:\n",
    "            sub = submodel_trans(model.model,[t_exp[in_m],t_exp[0 if in_m else 1]]).to(model.device)\n",
    "            # select a set of background examples to take an expectation over\n",
    "            background = cluster_prototype_features[t_exp[in_m]]\n",
    "            e = shap.DeepExplainer(sub, background)\n",
    "            # choose what to explain\n",
    "            test_type = torch.tensor(adatas_all[t_exp[in_m]].X,device=model.device)\n",
    "            shap_values = e.shap_values(test_type,check_additivity=True)\n",
    "            shap_value_target[f'{t_exp[in_m]}to{t_exp[0 if in_m else 1]}'] = shap_values\n",
    "            save_obj(root_save_path_relev,f'{modality_names[in_m]}2{modality_names[0 if in_m else 1]}',shap_values)\n",
    "        else:\n",
    "            shap_values = load_obj(root_save_path_relev,f'{modality_names[in_m]}2{modality_names[0 if in_m else 1]}',\n",
    "                                  adatas_all[t_exp[0 if in_m else 1]].shape[1],adatas_all[t_exp[in_m]].shape)\n",
    "            shap_value_target[f'{t_exp[in_m]}to{t_exp[0 if in_m else 1]}'] = shap_values\n",
    "\n",
    "    feature_relevance[cv] = shap_value_target\n",
    "\n",
    "\n",
    "    unique_ct = list(all_type_features_mj.keys())\n",
    "\n",
    "    var_names_all = [ad.var_names.values for ad in adatas_all[:2]]\n",
    "    c_v_values_01, io_names_01 = feature_relevance_chord_plot(shap_value_target['0to1'],unique_ct,var_names_all,all_type_features_mj,f'{technique}_cv_{cv}',in_mod = 0,thres = None,\n",
    "                                    potential_coloarmaps=['spring', 'summer', 'winter', 'autumn'])\n",
    "    c_v_values_01_all[cv] = c_v_values_01\n",
    "    io_names_01_all[cv] = io_names_01\n",
    "\n",
    "    var_names_all = [ad.var_names.values for ad in adatas_all[::2]]\n",
    "    c_v_values_02, io_names_02 = feature_relevance_chord_plot(shap_value_target['0to2'],unique_ct,var_names_all,all_type_features_mj,f'{technique}_cv_{cv}',in_mod = 0,thres = None,\n",
    "                                direction = '0to2',potential_coloarmaps=['spring', 'summer', 'winter', 'autumn'])\n",
    "    c_v_values_02_all[cv] = c_v_values_02\n",
    "    io_names_02_all[cv] = io_names_02\n",
    "    mods = ['Genes','Ephys','Morph']\n",
    "    for mjt in all_type_features_mj.keys():\n",
    "        print(mjt)\n",
    "        for ii in range(3):\n",
    "            print(mods[ii])\n",
    "            adata_fused.obs[all_type_features_mj[mjt][ii]] = adatas_all[ii][:,all_type_features_mj[mjt][ii]].X\n",
    "            sc.pl.umap(adata_fused,color=all_type_features_mj[mjt][ii],cmap='bwr',show=True,edges=False,\n",
    "                      edges_width = 0.2,linewidth=1000,edgecolors='k',save=f'{mjt}_{mods[ii]}.pdf')\n",
    "\n",
    "    print(all_type_features_mj['Pvalb'])\n",
    "\n",
    "    sc.pl.umap(adata_fused,color=['predicted_label_less'],palette='rainbow',show=True,edges=True,edges_width = 0.2,linewidth=1000,edgecolors='k',title='',save=f'patch_seq_2D_MET_comparison_no_legend_cv{cv}.pdf')\n",
    "\n",
    "    \n",
    "    sc.set_figure_params(scanpy=True, fontsize=20,figsize=[6.4, 4.8])\n",
    "\n",
    "   "
   ]
  },
  {
   "cell_type": "code",
   "execution_count": null,
   "metadata": {},
   "outputs": [],
   "source": [
    "with open('./saved_results/patch_seq_cross_feature_relevance_robust.pkl', 'wb') as handle:\n",
    "     pickle.dump(feature_relevance,handle)\n"
   ]
  },
  {
   "cell_type": "markdown",
   "metadata": {
    "id": "jtjI8yDP9001"
   },
   "source": [
    "# check how overlapping the feature names are between each cross validation"
   ]
  },
  {
   "cell_type": "code",
   "execution_count": null,
   "metadata": {
    "executionInfo": {
     "elapsed": 3,
     "status": "ok",
     "timestamp": 1671164711327,
     "user": {
      "displayName": "Xin Tang",
      "userId": "08807295460442877832"
     },
     "user_tz": 300
    },
    "id": "nFeIHV_v_dF8"
   },
   "outputs": [],
   "source": [
    "from functools import reduce"
   ]
  },
  {
   "cell_type": "code",
   "execution_count": null,
   "metadata": {
    "executionInfo": {
     "elapsed": 151,
     "status": "ok",
     "timestamp": 1671164823793,
     "user": {
      "displayName": "Xin Tang",
      "userId": "08807295460442877832"
     },
     "user_tz": 300
    },
    "id": "hwEAI67ykk-Z"
   },
   "outputs": [],
   "source": [
    "t_feature = {}\n",
    "e_feature = {}\n",
    "m_feature = {}\n",
    "for ct in ['Lamp5', 'Pvalb', 'Sncg', 'Sst', 'Vip']:\n",
    "    t_feature[ct] = {'feature_name':[],'cv':[]}\n",
    "    e_feature[ct] = {'feature_name':[],'cv':[]}\n",
    "    m_feature[ct] = {'feature_name':[],'cv':[]}\n",
    "    for cv in range(10):  \n",
    "        t_feature[ct]['feature_name'].append(type_feature_major[cv][ct][0])\n",
    "        e_feature[ct]['feature_name'].append(type_feature_major[cv][ct][1])\n",
    "        m_feature[ct]['feature_name'].append(type_feature_major[cv][ct][2])\n",
    "\n",
    "        t_feature[ct]['cv'].append([cv]*len(type_feature_major[cv][ct][0]))\n",
    "        e_feature[ct]['cv'].append([cv]*len(type_feature_major[cv][ct][1]))\n",
    "        m_feature[ct]['cv'].append([cv]*len(type_feature_major[cv][ct][2]))\n",
    "\n",
    "    t_feature[ct]['cv'] = np.hstack(t_feature[ct]['cv'])\n",
    "    e_feature[ct]['cv'] = np.hstack(e_feature[ct]['cv'])\n",
    "    m_feature[ct]['cv'] = np.hstack(m_feature[ct]['cv'])\n",
    "\n",
    "    t_feature[ct]['feature_name'] = np.hstack(t_feature[ct]['feature_name'])\n",
    "    e_feature[ct]['feature_name'] = np.hstack(e_feature[ct]['feature_name'])\n",
    "    m_feature[ct]['feature_name'] = np.hstack(m_feature[ct]['feature_name'])\n"
   ]
  },
  {
   "cell_type": "markdown",
   "metadata": {
    "id": "2wgs9fkX7HKm"
   },
   "source": [
    "# predictability comparison between SHAP identified features and other features"
   ]
  },
  {
   "cell_type": "code",
   "execution_count": null,
   "metadata": {
    "executionInfo": {
     "elapsed": 112,
     "status": "ok",
     "timestamp": 1671164826564,
     "user": {
      "displayName": "Xin Tang",
      "userId": "08807295460442877832"
     },
     "user_tz": 300
    },
    "id": "kgPPzsEAtRoN"
   },
   "outputs": [],
   "source": [
    "import matplotlib as mpl\n",
    "mpl.rcParams['font.family'] = 'Arial'\n",
    "sns.set_theme(style=\"ticks\")\n",
    "thres = 7\n",
    "type_feature_cv = {'T':{},'E':{},'M':{}}\n"
   ]
  },
  {
   "cell_type": "code",
   "execution_count": null,
   "metadata": {
    "colab": {
     "base_uri": "https://localhost:8080/",
     "height": 1000
    },
    "executionInfo": {
     "elapsed": 3365,
     "status": "ok",
     "timestamp": 1671164830579,
     "user": {
      "displayName": "Xin Tang",
      "userId": "08807295460442877832"
     },
     "user_tz": 300
    },
    "id": "mz63Pp7__vP5",
    "outputId": "f0055d5a-8761-4309-afae-63f1cb44e9fc"
   },
   "outputs": [],
   "source": [
    "for ct in ['Lamp5', 'Pvalb', 'Sncg', 'Sst', 'Vip']:\n",
    "    fig,ax = plt.subplots(figsize=[4,4])\n",
    "    ct_ct = pd.DataFrame(t_feature[ct])['feature_name'].value_counts().sort_values(ascending=False)\n",
    "    x_order = ct_ct.index\n",
    "    sns.countplot(data = t_feature[ct],y='feature_name',order = x_order[:thres],\n",
    "                  palette='Reds_r',ax=ax)\n",
    "    plt.grid(axis='x')\n",
    "    plt.savefig(f'./shap_robustness/patchseq/type_relevance_{ct}_T_v2.pdf')\n",
    "    type_feature_cv['T'][ct] = ct_ct[:thres].index.to_numpy()\n"
   ]
  },
  {
   "cell_type": "code",
   "execution_count": null,
   "metadata": {
    "colab": {
     "base_uri": "https://localhost:8080/",
     "height": 1000
    },
    "executionInfo": {
     "elapsed": 2032,
     "status": "ok",
     "timestamp": 1671164832606,
     "user": {
      "displayName": "Xin Tang",
      "userId": "08807295460442877832"
     },
     "user_tz": 300
    },
    "id": "11YfhRWEs3Cd",
    "outputId": "3cf9989f-0444-482e-d921-4699d7f0645a"
   },
   "outputs": [],
   "source": [
    "for ct in ['Lamp5', 'Pvalb', 'Sncg', 'Sst', 'Vip']:\n",
    "    fig,ax = plt.subplots(figsize=[4,4])\n",
    "    ct_ct = pd.DataFrame(e_feature[ct])['feature_name'].value_counts().sort_values(ascending=False)\n",
    "    x_order = ct_ct.index\n",
    "    sns.countplot(data = e_feature[ct],y='feature_name',order = x_order[:thres],\n",
    "                  palette='Blues_r',ax=ax)\n",
    "    plt.grid(axis='x')\n",
    "    plt.savefig(f'./shap_robustness/patchseq/type_relevance_{ct}_E_v2.pdf')\n",
    "    type_feature_cv['E'][ct] = ct_ct[:thres].index.to_numpy()\n"
   ]
  },
  {
   "cell_type": "code",
   "execution_count": null,
   "metadata": {
    "colab": {
     "base_uri": "https://localhost:8080/",
     "height": 1000
    },
    "executionInfo": {
     "elapsed": 2006,
     "status": "ok",
     "timestamp": 1671164834606,
     "user": {
      "displayName": "Xin Tang",
      "userId": "08807295460442877832"
     },
     "user_tz": 300
    },
    "id": "7gK0bri-wIXo",
    "outputId": "ee66e534-a1b8-4d8e-d93a-9f9155f5979a"
   },
   "outputs": [],
   "source": [
    "\n",
    "for ct in ['Lamp5', 'Pvalb', 'Sncg', 'Sst', 'Vip']:\n",
    "    fig,ax = plt.subplots(figsize=[4,4])\n",
    "    ct_ct = pd.DataFrame(m_feature[ct])['feature_name'].value_counts().sort_values(ascending=False)\n",
    "    x_order = ct_ct.index\n",
    "    sns.countplot(data = m_feature[ct],y='feature_name',order = x_order[:thres],\n",
    "                  palette='Greens_r',ax=ax)\n",
    "    plt.grid(axis='x')\n",
    "    plt.savefig(f'./shap_robustness/patchseq/type_relevance_{ct}_M_v2.pdf')\n",
    "    type_feature_cv['M'][ct] = ct_ct[:thres].index.to_numpy()\n"
   ]
  },
  {
   "cell_type": "markdown",
   "metadata": {
    "id": "0XgI56L-6Us0"
   },
   "source": [
    "# Cross validated type-feature relevance plot"
   ]
  },
  {
   "cell_type": "code",
   "execution_count": null,
   "metadata": {
    "colab": {
     "base_uri": "https://localhost:8080/",
     "height": 240
    },
    "executionInfo": {
     "elapsed": 102,
     "status": "error",
     "timestamp": 1668903895468,
     "user": {
      "displayName": "Xin Tang",
      "userId": "08807295460442877832"
     },
     "user_tz": 300
    },
    "id": "nBNKpKaACp-q",
    "outputId": "650b6595-3f84-443f-829d-cd0696bef46d"
   },
   "outputs": [],
   "source": [
    "type_feature_shap_avg = []\n",
    "for ct in range(27):\n",
    "    ct_vl = []\n",
    "    for mod in range(3):\n",
    "        ct_mod_vl = []\n",
    "        for cv in range(10):\n",
    "            ct_mod_vl.append(type_feature_shap_values[cv][ct][mod])\n",
    "        ct_vl.append(np.mean(ct_mod_vl,axis=0))\n",
    "    type_feature_shap_avg.append(ct_vl)\n",
    "\n"
   ]
  },
  {
   "cell_type": "code",
   "execution_count": null,
   "metadata": {
    "colab": {
     "base_uri": "https://localhost:8080/"
    },
    "executionInfo": {
     "elapsed": 26908,
     "status": "ok",
     "timestamp": 1671052576709,
     "user": {
      "displayName": "Xin Tang",
      "userId": "08807295460442877832"
     },
     "user_tz": 300
    },
    "id": "2pwWkVnMfkLj",
    "outputId": "795b96e0-d35b-4579-e75f-e8245339a979"
   },
   "outputs": [],
   "source": [
    "for cv in range(1):\n",
    "    print(f'++++++++++++++ the current cv is {cv} ++++++++++++++')\n",
    "    root_save_path = f\"./saved_results/{technique}_{cv}\"\n",
    "    model = UnitedNet(root_save_path, device=device, technique=patchseq_config)\n",
    "    _,_,adatas_all = patch_seq_pre_ps(adata_rna_raw,adata_ephys_raw,adata_morph_raw,cv,ind_dict,split=False)\n",
    "\n",
    "    model.load_model(f\"{root_save_path}/train_best.pt\",device=torch.device(device))\n",
    "    model.model.device_in_use = device\n",
    "    losses = model.evaluate(adatas_all,give_losses=True,stage='train')\n",
    "    predict_label = model.predict_label(adatas_all)\n",
    "    adata_fused = model.infer(adatas_all)\n",
    "    adata_fused.obs['label'] = list(adatas_all[0].obs['label'])\n",
    "    adata_fused.obs['label_less'] = [ct.split('-')[0] for ct in adata_fused.obs['label'].values]\n",
    "\n",
    "\n",
    "    pseudo_label = np.array(adata_fused.obs['predicted_label'].values)\n",
    "    cmat = confusion_matrix(adata_fused.obs['label'], pseudo_label)\n",
    "    ri, ci = linear_sum_assignment(-cmat)\n",
    "    ordered_all = cmat[np.ix_(ri, ci)]\n",
    "    major_sub_names = {}\n",
    "    pred_labels_re_order = copy.deepcopy(pseudo_label)\n",
    "    lb_cor_dict = {}\n",
    "    for re_oder,(lb_correct,lb) in enumerate(zip(unique_labels(adata_fused.obs['label'], pseudo_label)[ri],\n",
    "                                    unique_labels(adata_fused.obs['label'], pseudo_label)[ci])):\n",
    "      idx = pseudo_label==lb\n",
    "      if any(idx):\n",
    "        nm = '-'.join(lb_correct.split('-')[:-1])\n",
    "        if nm in major_sub_names.keys():\n",
    "          major_sub_names[nm]+=1\n",
    "        else:\n",
    "          major_sub_names[nm]=1\n",
    "        lb_cor_dict[lb]=lb_correct\n",
    "        pred_labels_re_order[idx] = f'{nm}-{major_sub_names[nm]}-Uni'\n",
    "        \n",
    "\n",
    "    adata_fused.obs['predicted_label'] = pred_labels_re_order\n",
    "    adata_fused.obs['predicted_label_less'] = [ct.split('-')[0] for ct in adata_fused.obs['predicted_label'].values]\n",
    "\n",
    "    accuracy_matching.append([adjusted_rand_score(adata_fused.obs['label_less'], adata_fused.obs['predicted_label_less']),adjusted_rand_score(adata_fused.obs['label'], adata_fused.obs['predicted_label'])])\n"
   ]
  },
  {
   "cell_type": "code",
   "execution_count": null,
   "metadata": {
    "colab": {
     "base_uri": "https://localhost:8080/",
     "height": 1000
    },
    "executionInfo": {
     "elapsed": 5083,
     "status": "ok",
     "timestamp": 1671052594990,
     "user": {
      "displayName": "Xin Tang",
      "userId": "08807295460442877832"
     },
     "user_tz": 300
    },
    "id": "8Qi0OxLRfbFj",
    "outputId": "5a2e829d-34d1-4891-adf0-b9ede8304779"
   },
   "outputs": [],
   "source": [
    "predict_label_sub = [ct.split('-')[0] for ct in adatas_all[0].obs['label']]\n",
    "\n",
    "major_dict = dict(zip(adata_fused.obs['predicted_label'].values,adata_fused.obs['predicted_label_less'].values))\n",
    "predict_label_anno = pred_labels_re_order\n",
    "\n",
    "\n",
    "adatas_all_new,_,_,p_l_less,pr_ty_dict = markers_chord_plot(adatas_all,predict_label,predict_label_anno,major_dict)\n",
    "\n",
    "for ct in np.unique(p_l_less):\n",
    "    p_fe = [type_feature_cv[mod][ct] for mod in ['T','E','M']]\n",
    "    p_fe_idx = [np.in1d(adatas_all[i].var_names, p_fe[i]) for i in range(3)]\n",
    "\n",
    "\n",
    "    all_less_type = [ct]\n",
    "\n",
    "    if 'predicted_label_colors' not in adata_fused.uns.keys():\n",
    "        sc.pl.umap(adata_fused,color=['predicted_label'],palette='rainbow',show=False,title='')\n",
    "    colors_type = dict(zip(adata_fused.obs['predicted_label'].cat.categories,adata_fused.uns['predicted_label_colors']))\n",
    "    all_type_features = type_relevance_chord_plot(type_feature_shap_avg, p_fe, p_fe_idx, p_l_less,predict_label, colors_type, all_less_type,f'{technique}_{ct}_v3',\n",
    "                                  pr_ty_dict,thres=0.0,only_show_good=True, linewidth=1, linecolormap='Reds', node_width=5,\n",
    "                                  potential_coloarmaps=['spring', 'summer', 'winter', 'autumn'])\n",
    "\n"
   ]
  },
  {
   "cell_type": "markdown",
   "metadata": {
    "id": "rLpT2Doy_qa5"
   },
   "source": [
    "# load the average feature-to-feature relevance"
   ]
  },
  {
   "cell_type": "code",
   "execution_count": null,
   "metadata": {
    "executionInfo": {
     "elapsed": 71765,
     "status": "ok",
     "timestamp": 1671052757011,
     "user": {
      "displayName": "Xin Tang",
      "userId": "08807295460442877832"
     },
     "user_tz": 300
    },
    "id": "3CflrujM_i5Y"
   },
   "outputs": [],
   "source": [
    "with open('./saved_results/patch_seq_cross_feature_relevance_robust.pkl', 'rb') as handle:\n",
    "    feature_relevance = pickle.load(handle)\n"
   ]
  },
  {
   "cell_type": "code",
   "execution_count": null,
   "metadata": {
    "executionInfo": {
     "elapsed": 5237,
     "status": "ok",
     "timestamp": 1671052762234,
     "user": {
      "displayName": "Xin Tang",
      "userId": "08807295460442877832"
     },
     "user_tz": 300
    },
    "id": "__Mro23eAi5h"
   },
   "outputs": [],
   "source": [
    "feature_feature_shap_avg = {'0to1':[], '0to2':[]}\n",
    "for f01 in range(68):\n",
    "    f01_list = []\n",
    "    for cv in range(10):\n",
    "        f01_list.append(feature_relevance[cv]['0to1'][f01])\n",
    "    feature_feature_shap_avg['0to1'].append(np.mean(f01_list,axis=0))\n",
    "  \n",
    "\n",
    "for f01 in range(514):\n",
    "    f01_list = []\n",
    "    for cv in range(10):\n",
    "        f01_list.append(feature_relevance[cv]['0to2'][f01])\n",
    "    feature_feature_shap_avg['0to2'].append(np.mean(f01_list,axis=0))\n",
    "\n"
   ]
  },
  {
   "cell_type": "code",
   "execution_count": null,
   "metadata": {
    "executionInfo": {
     "elapsed": 13,
     "status": "ok",
     "timestamp": 1671052762234,
     "user": {
      "displayName": "Xin Tang",
      "userId": "08807295460442877832"
     },
     "user_tz": 300
    },
    "id": "r1_54w0SEiRv"
   },
   "outputs": [],
   "source": [
    "type_feature_cv_reorder = {}\n",
    "for mod_idx, mod_nm in enumerate(type_feature_cv.keys()):\n",
    "  for ctp in type_feature_cv[mod_nm].keys():\n",
    "    if ctp not in type_feature_cv_reorder.keys():\n",
    "      type_feature_cv_reorder[ctp] = {}\n",
    "    type_feature_cv_reorder[ctp][mod_idx] = type_feature_cv[mod_nm][ctp]\n"
   ]
  },
  {
   "cell_type": "code",
   "execution_count": null,
   "metadata": {
    "colab": {
     "base_uri": "https://localhost:8080/",
     "height": 1000
    },
    "executionInfo": {
     "elapsed": 5261,
     "status": "ok",
     "timestamp": 1671052767625,
     "user": {
      "displayName": "Xin Tang",
      "userId": "08807295460442877832"
     },
     "user_tz": 300
    },
    "id": "jcXCvj-YgMkn",
    "outputId": "2932dfb4-e871-414a-d29a-982f64f5c58d"
   },
   "outputs": [],
   "source": [
    "\n",
    "unique_ct = list(type_feature_cv_reorder.keys())\n",
    "\n",
    "var_names_all = [ad.var_names.values for ad in adatas_all[:2]]\n",
    "c_v_values_01, io_names_01 = feature_relevance_chord_plot(feature_feature_shap_avg['0to1'],unique_ct,var_names_all,type_feature_cv_reorder,f'{technique}_cv_{cv}_average_v3',in_mod = 0,thres = None,\n",
    "                                potential_coloarmaps=['spring', 'summer', 'winter', 'autumn'])\n",
    "\n",
    "var_names_all = [ad.var_names.values for ad in adatas_all[::2]]\n",
    "c_v_values_02, io_names_02 = feature_relevance_chord_plot(feature_feature_shap_avg['0to2'],unique_ct,var_names_all,type_feature_cv_reorder,f'{technique}_cv_{cv}_average_v3',in_mod = 0,thres = None,\n",
    "                            direction = '0to2',potential_coloarmaps=['spring', 'summer', 'winter', 'autumn'])\n",
    "\n",
    "\n"
   ]
  }
 ],
 "metadata": {
  "accelerator": "GPU",
  "colab": {
   "collapsed_sections": [
    "U17gKT4kI73f",
    "vI7qk-azwTJn"
   ],
   "provenance": []
  },
  "gpuClass": "premium",
  "kernelspec": {
   "display_name": "Python 3 (ipykernel)",
   "language": "python",
   "name": "python3"
  },
  "language_info": {
   "codemirror_mode": {
    "name": "ipython",
    "version": 3
   },
   "file_extension": ".py",
   "mimetype": "text/x-python",
   "name": "python",
   "nbconvert_exporter": "python",
   "pygments_lexer": "ipython3",
   "version": "3.7.13"
  }
 },
 "nbformat": 4,
 "nbformat_minor": 1
}
