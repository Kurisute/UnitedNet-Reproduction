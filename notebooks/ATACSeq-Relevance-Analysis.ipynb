{
 "cells": [
  {
   "cell_type": "code",
   "execution_count": null,
   "metadata": {
    "id": "JrDU0pqvI73Y"
   },
   "outputs": [],
   "source": [
    "import anndata as ad\n",
    "import numpy as np\n",
    "import scanpy as sc\n",
    "import pandas as pd\n",
    "from scipy.stats import spearmanr, pearsonr\n",
    "import matplotlib.pyplot as plt\n",
    "import seaborn as sns\n",
    "from sklearn.metrics import adjusted_rand_score, confusion_matrix\n",
    "from scipy.optimize import linear_sum_assignment\n",
    "\n",
    "import sys\n",
    "sys.path.append('..')\n",
    "from src.interface import UnitedNet\n",
    "from src.configs import *\n",
    "from src.data import partitions,save_umap,generate_adata\n",
    "from src.scripts import ordered_cmat,assignmene_align\n",
    "import copy as copy\n"
   ]
  },
  {
   "cell_type": "code",
   "execution_count": null,
   "metadata": {
    "id": "W2DjFHBci_Cj"
   },
   "outputs": [],
   "source": [
    "technique = 'ATACseq'\n",
    "data_path = f\"../data/{technique}\"\n",
    "root_save_path = f\"../saved_results/atacseq_new_trans_finetune_v2\"\n",
    "test_batches = ['s1d1', 's1d2', 's1d3',\n",
    " 's2d1', 's2d4', 's2d5',\n",
    " 's3d3', 's3d6', 's3d7', 's3d10',\n",
    " 's4d1', 's4d8', 's4d9']\n",
    "device = \"cuda:0\""
   ]
  },
  {
   "cell_type": "code",
   "execution_count": null,
   "metadata": {},
   "outputs": [],
   "source": [
    "\n",
    "adata_atac = sc.read_h5ad(f'{data_path}/atac_processed.h5ad')\n",
    "adata_atac.X = adata_atac.X.toarray()\n",
    "adata_atac.obs['label'] = list(adata_atac.obs['cell_type'])\n",
    "adata_atac.var['original_var'] = adata_atac.var_names\n",
    "adata_atac.var_names = np.append(pd.read_csv(f'../data/{technique}/annotated_ATAC_gene_names_10k.csv').iloc[:,0].values,'unknown')\n",
    "adata_atac.var_names_make_unique()\n",
    "adata_atac.var_names = adata_atac.var_names.astype(str)\n",
    "adata_gex  = sc.read_h5ad(f'{data_path}/gex_processed.h5ad')\n",
    "adata_gex.obs['label'] = list(adata_gex.obs['cell_type'])\n",
    "\n"
   ]
  },
  {
   "cell_type": "code",
   "execution_count": null,
   "metadata": {},
   "outputs": [],
   "source": [
    "adatas_all = [adata_atac,adata_gex]"
   ]
  },
  {
   "cell_type": "markdown",
   "metadata": {
    "id": "poCVa4KViSZJ"
   },
   "source": [
    "# Robustness analysis for the relevance analysis"
   ]
  },
  {
   "cell_type": "code",
   "execution_count": null,
   "metadata": {
    "id": "coxL2v8EjNKO"
   },
   "outputs": [],
   "source": [
    "from sklearn.utils.multiclass import unique_labels\n",
    "from sklearn.metrics import accuracy_score,adjusted_rand_score\n",
    "\n",
    "import shap\n",
    "import torch\n",
    "import torch.nn as nn\n",
    "from src.modules import submodel_trans, submodel_clus\n",
    "from src.data import save_obj, load_obj, partitions, type_specific_mean\n",
    "from src.plots import markers_chord_plot,type_relevance_chord_plot,feature_relevance_chord_plot,merge_sub_feature\n",
    "\n"
   ]
  },
  {
   "cell_type": "code",
   "execution_count": null,
   "metadata": {
    "id": "Yabv2YJ0K8XX"
   },
   "outputs": [],
   "source": [
    "accuracy_matching = []\n",
    "type_feature = {}\n",
    "type_feature_major = {}\n",
    "feature_relevance = {}\n",
    "type_feature_shap_values = []"
   ]
  },
  {
   "cell_type": "code",
   "execution_count": null,
   "metadata": {
    "colab": {
     "base_uri": "https://localhost:8080/",
     "height": 1000
    },
    "id": "gWuSkse9i5ez",
    "outputId": "e8b905e1-23b9-4b73-b435-d3301fc9308a",
    "scrolled": true
   },
   "outputs": [],
   "source": [
    "\n",
    "for test_batch in test_batches:\n",
    "    print(test_batch)\n",
    "    model = UnitedNet(f\"{root_save_path}/{test_batch}\", device=device, technique=atacseq_config)\n",
    "    model.load_model(f\"{root_save_path}/{test_batch}/transfer_best.pt\",device=torch.device(device))\n",
    "    model.model.device_in_use = device\n",
    "    adatas_all = [adata_atac,adata_gex]\n",
    "\n",
    "    calculate_shap=False\n",
    "\n",
    "    cluster_prototype_features = [type_specific_mean(ad_x,'label').to(device=model.device) for ad_x in adatas_all]\n",
    "\n",
    "    modality_names = ['ATAC','RNA']\n",
    "\n",
    "    shap_value_target = {}\n",
    "\n",
    "    sp_idx = adatas_all[0].obs.groupby([\"label\"]).sample(n=100, random_state=1).index\n",
    "    test_type = [torch.tensor(adatas_all[0][sp_idx].X,device=model.device), torch.tensor(adatas_all[1][sp_idx].X,device=model.device)]\n",
    "\n",
    "    adatas_all = [ad_x[sp_idx] for ad_x in adatas_all]\n",
    "    predict_label = model.predict_label(adatas_all)\n",
    "    adata_fused = model.infer(adatas_all)\n",
    "    predict_label_anno = adata_fused.obs['predicted_label']\n",
    "    adata_fused.obs['label'] = list(adatas_all[0].obs['label'])\n",
    "\n",
    "\n",
    "\n",
    "    new_features = True\n",
    "    top_features = {}\n",
    "    ct_num = len(adatas_all[0].obs[\"label\"].unique())\n",
    "    root_save_path_relev = f'{root_save_path}/{test_batch}/type_relevance'\n",
    "    if calculate_shap:\n",
    "        sub = submodel_clus(model.model).to(model.device)\n",
    "        # select a set of background examples to take an expectation over\n",
    "        background = cluster_prototype_features\n",
    "        e = shap.DeepExplainer(sub, background)\n",
    "        # choose what to explain\n",
    "        shap_values = e.shap_values(test_type,check_additivity=True)\n",
    "        save_obj(root_save_path_relev,f'type_explain',shap_values)\n",
    "    else:\n",
    "        shap_values = load_obj(root_save_path_relev,f'type_explain', ct_num,\n",
    "                              [ads.shape for ads in adatas_all],type_rele=True,mod_num=2)\n",
    "    type_feature_shap_values.append(shap_values)\n",
    "\n",
    "\n",
    "\n",
    "    major_dict = {'CD14+ Mono': 'Monocytes', \n",
    "                  'CD16+ Mono': 'Monocytes',\n",
    "                  'pDC': 'Monocytes', \n",
    "                  'cDC2': 'Monocytes',\n",
    "                  'Naive CD20+ B': 'B cells', \n",
    "                  'B1 B': 'B cells', \n",
    "                  'Transitional B': 'B cells', \n",
    "                  'Plasma cell': 'B cells',\n",
    "                  'HSC': 'Progenitors', \n",
    "                  'ID2-hi myeloid prog': 'Progenitors', \n",
    "                  'Lymph prog': 'Progenitors', \n",
    "                  'MK/E prog': 'Progenitors',\n",
    "                  'G/M prog': 'Progenitors',\n",
    "                  'Proerythroblast': 'Erythropoiesis', \n",
    "                  'Erythroblast': 'Erythropoiesis', \n",
    "                  'Normoblast': 'Erythropoiesis',\n",
    "                  'CD4+ T naive': 'CD4+ T cells', \n",
    "                  'CD4+ T activated': 'CD4+ T cells', \n",
    "                  'CD8+ T': 'CD8+ T cells',\n",
    "                  'CD8+ T naive': 'CD8+ T cells', \n",
    "                  'NK': 'NK cells', \n",
    "                  'ILC': 'NK cells'}\n",
    "    adatas_all_new,p_fe,p_fe_idx,p_l_less,pr_ty_dict = markers_chord_plot(adatas_all,predict_label,predict_label_anno,major_dict,subset_feature=False)\n",
    "    all_less_type = np.unique(p_l_less)\n",
    "\n",
    "    if 'predicted_label_colors' not in adata_fused.uns.keys():\n",
    "        sc.pl.umap(adata_fused,color=['predicted_label'],palette='gist_rainbow',show=False,title='')\n",
    "    colors_type = dict(zip(adata_fused.obs['predicted_label'].cat.categories,adata_fused.uns['predicted_label_colors']))\n",
    "    all_type_features = type_relevance_chord_plot(shap_values, p_fe, p_fe_idx, p_l_less,predict_label, colors_type, all_less_type,f'{test_batch}_{technique}',\n",
    "                                  pr_ty_dict,thres=20,only_show_good=True, linewidth=1, linecolormap='Reds', node_width=5,fontsize_names=10,\n",
    "                                  potential_coloarmaps=['spring', 'summer', 'winter', 'autumn'])\n",
    "    print(all_type_features)\n",
    "    type_feature[test_batch] = all_type_features\n",
    "    all_type_features_mj = merge_sub_feature(all_type_features,major_dict)\n",
    "    type_feature_major[test_batch] = all_type_features_mj\n"
   ]
  },
  {
   "cell_type": "code",
   "execution_count": null,
   "metadata": {
    "id": "-rxoRDNyBFAM"
   },
   "outputs": [],
   "source": [
    "import pickle\n"
   ]
  },
  {
   "cell_type": "code",
   "execution_count": null,
   "metadata": {
    "id": "evHeHnU07mR5"
   },
   "outputs": [],
   "source": [
    "\n",
    "with open('./saved_results/atac_seq_type_relevance_robust.pkl', 'wb') as handle:\n",
    "    pickle.dump(type_feature, handle, protocol=pickle.HIGHEST_PROTOCOL)\n",
    "\n",
    "with open('./saved_results/atac_seq_type_major_relevance_robust.pkl', 'wb') as handle:\n",
    "    pickle.dump(type_feature_major, handle, protocol=pickle.HIGHEST_PROTOCOL)\n",
    "\n",
    "\n"
   ]
  },
  {
   "cell_type": "code",
   "execution_count": null,
   "metadata": {
    "id": "rwaw-CaqBDrg"
   },
   "outputs": [],
   "source": [
    "\n",
    "\n",
    "with open('./saved_results/atac_seq_type_relevance_robust.pkl', 'rb') as handle:\n",
    "    type_feature = pickle.load(handle)\n",
    "\n",
    "with open('./saved_results/atac_seq_type_major_relevance_robust.pkl', 'rb') as handle:\n",
    "    type_feature_major = pickle.load(handle)\n"
   ]
  },
  {
   "cell_type": "markdown",
   "metadata": {
    "id": "jtjI8yDP9001"
   },
   "source": [
    "# check how overlapping the feature names are between each cross validation"
   ]
  },
  {
   "cell_type": "code",
   "execution_count": null,
   "metadata": {
    "id": "nFeIHV_v_dF8"
   },
   "outputs": [],
   "source": [
    "from functools import reduce"
   ]
  },
  {
   "cell_type": "code",
   "execution_count": null,
   "metadata": {},
   "outputs": [],
   "source": [
    "mj_types = ['B cells', 'CD4+ T cells', 'CD8+ T cells', 'Erythropoiesis',\n",
    "       'Monocytes', 'NK cells', 'Progenitors']"
   ]
  },
  {
   "cell_type": "code",
   "execution_count": null,
   "metadata": {
    "id": "hwEAI67ykk-Z"
   },
   "outputs": [],
   "source": [
    "d_feature = {}\n",
    "r_feature = {}\n",
    "for ct in mj_types:\n",
    "    d_feature[ct] = {'feature_name':[],'test_batch':[]}\n",
    "    r_feature[ct] = {'feature_name':[],'test_batch':[]}\n",
    "    for test_batch in test_batches: \n",
    "        d_feature[ct]['feature_name'].append(type_feature_major[test_batch][ct][0])\n",
    "        r_feature[ct]['feature_name'].append(type_feature_major[test_batch][ct][1])\n",
    "\n",
    "        d_feature[ct]['test_batch'].append([test_batch]*len(type_feature_major[test_batch][ct][0]))\n",
    "        r_feature[ct]['test_batch'].append([test_batch]*len(type_feature_major[test_batch][ct][1]))\n",
    "\n",
    "    d_feature[ct]['test_batch'] = np.hstack(d_feature[ct]['test_batch'])\n",
    "    r_feature[ct]['test_batch'] = np.hstack(r_feature[ct]['test_batch'])\n",
    "\n",
    "    d_feature[ct]['feature_name'] = np.hstack(d_feature[ct]['feature_name'])\n",
    "    r_feature[ct]['feature_name'] = np.hstack(r_feature[ct]['feature_name'])\n"
   ]
  },
  {
   "cell_type": "markdown",
   "metadata": {
    "id": "2wgs9fkX7HKm"
   },
   "source": [
    "# predictability comparison between SHAP identified features and other features"
   ]
  },
  {
   "cell_type": "code",
   "execution_count": null,
   "metadata": {
    "id": "kgPPzsEAtRoN"
   },
   "outputs": [],
   "source": [
    "import matplotlib as mpl\n",
    "from  matplotlib.ticker import FuncFormatter\n",
    "mpl.rcParams['font.family'] = 'Arial'\n",
    "sns.set_theme(style=\"ticks\")\n",
    "thres = 20\n",
    "type_feature_cv = {'D':{},'R':{}}\n"
   ]
  },
  {
   "cell_type": "code",
   "execution_count": null,
   "metadata": {
    "colab": {
     "base_uri": "https://localhost:8080/",
     "height": 1000
    },
    "id": "mz63Pp7__vP5",
    "outputId": "55f8d87b-449c-4d0f-e517-0aaa16f81716",
    "scrolled": true
   },
   "outputs": [],
   "source": [
    "for ct in mj_types:\n",
    "    fig,ax = plt.subplots(figsize=[4,4])\n",
    "    ct_ct = pd.DataFrame(d_feature[ct])['feature_name'].value_counts().sort_values(ascending=False)\n",
    "    x_order = ct_ct.index\n",
    "    sns.countplot(data = d_feature[ct],y='feature_name',order = x_order[:thres],\n",
    "                  palette='Reds_r',ax=ax)\n",
    "    plt.grid(axis='x')\n",
    "    plt.title(ct)\n",
    "    plt.gca().xaxis.set_major_formatter(FuncFormatter(lambda x, _: int(x)))\n",
    "    plt.savefig(f'./shap_robustness/atacseq/type_relevance_{ct}_D.pdf')\n",
    "    type_feature_cv['D'][ct] = ct_ct[:thres].index.to_numpy()\n",
    "    "
   ]
  },
  {
   "cell_type": "code",
   "execution_count": null,
   "metadata": {
    "colab": {
     "base_uri": "https://localhost:8080/",
     "height": 1000
    },
    "id": "7gK0bri-wIXo",
    "outputId": "ca879ec7-b8fc-4306-dc77-163cad3ecf33",
    "scrolled": true
   },
   "outputs": [],
   "source": [
    "\n",
    "for ct in mj_types:\n",
    "    fig,ax = plt.subplots(figsize=[4,4])\n",
    "    ct_ct = pd.DataFrame(r_feature[ct])['feature_name'].value_counts().sort_values(ascending=False)\n",
    "    x_order = ct_ct.index\n",
    "    sns.countplot(data = r_feature[ct],y='feature_name',order = x_order[:thres],\n",
    "                  palette='Greens_r',ax=ax)\n",
    "    plt.grid(axis='x')\n",
    "    plt.title(ct)\n",
    "    plt.gca().xaxis.set_major_formatter(FuncFormatter(lambda x, _: int(x)))\n",
    "    plt.savefig(f'./shap_robustness/atacseq/type_relevance_{ct}_R.pdf')\n",
    "    type_feature_cv['R'][ct] = ct_ct[:thres].index.to_numpy()\n"
   ]
  },
  {
   "cell_type": "markdown",
   "metadata": {
    "id": "0XgI56L-6Us0"
   },
   "source": [
    "# Cross validated type-feature relevance plot"
   ]
  },
  {
   "cell_type": "code",
   "execution_count": null,
   "metadata": {
    "id": "nBNKpKaACp-q"
   },
   "outputs": [],
   "source": [
    "type_feature_shap_avg = []\n",
    "for ct in range(22):\n",
    "    ct_vl = []\n",
    "    for mod in range(2):\n",
    "        ct_mod_vl = []\n",
    "        for cv in range(13):\n",
    "            ct_mod_vl.append(type_feature_shap_values[cv][ct][mod])\n",
    "        ct_vl.append(np.mean(ct_mod_vl,axis=0))\n",
    "    type_feature_shap_avg.append(ct_vl)\n",
    "\n"
   ]
  },
  {
   "cell_type": "code",
   "execution_count": null,
   "metadata": {},
   "outputs": [],
   "source": [
    "\n",
    "for test_batch in [test_batches[0]]:\n",
    "    print(test_batch)\n",
    "    model = UnitedNet(f\"{root_save_path}/{test_batch}\", device=device, technique=atacseq_config)\n",
    "    model.load_model(f\"{root_save_path}/{test_batch}/transfer_best.pt\",device=torch.device(device))\n",
    "    model.model.device_in_use = device\n",
    "    adatas_all = [adata_atac,adata_gex]\n",
    "\n",
    "    calculate_shap=False\n",
    "\n",
    "    cluster_prototype_features = [type_specific_mean(ad_x,'label').to(device=model.device) for ad_x in adatas_all]\n",
    "\n",
    "    modality_names = ['ATAC','RNA']\n",
    "\n",
    "    shap_value_target = {}\n",
    "\n",
    "    sp_idx = adatas_all[0].obs.groupby([\"label\"]).sample(n=100, random_state=1).index\n",
    "    test_type = [torch.tensor(adatas_all[0][sp_idx].X,device=model.device), torch.tensor(adatas_all[1][sp_idx].X,device=model.device)]\n",
    "\n",
    "    adatas_all = [ad_x[sp_idx] for ad_x in adatas_all]\n",
    "    predict_label = model.predict_label(adatas_all)\n",
    "    adata_fused = model.infer(adatas_all)\n",
    "    predict_label_anno = adata_fused.obs['predicted_label']\n",
    "    adata_fused.obs['label'] = list(adatas_all[0].obs['label'])\n",
    "    major_dict = {'CD14+ Mono': 'Monocytes', \n",
    "                  'CD16+ Mono': 'Monocytes',\n",
    "                  'pDC': 'Monocytes', \n",
    "                  'cDC2': 'Monocytes',\n",
    "                  'Naive CD20+ B': 'B cells', \n",
    "                  'B1 B': 'B cells', \n",
    "                  'Transitional B': 'B cells', \n",
    "                  'Plasma cell': 'B cells',\n",
    "                  'HSC': 'Progenitors', \n",
    "                  'ID2-hi myeloid prog': 'Progenitors', \n",
    "                  'Lymph prog': 'Progenitors', \n",
    "                  'MK/E prog': 'Progenitors',\n",
    "                  'G/M prog': 'Progenitors',\n",
    "                  'Proerythroblast': 'Erythropoiesis', \n",
    "                  'Erythroblast': 'Erythropoiesis', \n",
    "                  'Normoblast': 'Erythropoiesis',\n",
    "                  'CD4+ T naive': 'CD4+ T cells', \n",
    "                  'CD4+ T activated': 'CD4+ T cells', \n",
    "                  'CD8+ T': 'CD8+ T cells',\n",
    "                  'CD8+ T naive': 'CD8+ T cells', \n",
    "                  'NK': 'NK cells', \n",
    "                  'ILC': 'NK cells'}"
   ]
  },
  {
   "cell_type": "code",
   "execution_count": null,
   "metadata": {
    "colab": {
     "base_uri": "https://localhost:8080/",
     "height": 0
    },
    "id": "YSpwCOZW6nRP",
    "outputId": "362936e9-0dcb-4999-d664-b973c568b356"
   },
   "outputs": [],
   "source": [
    "\n",
    "\n",
    "\n",
    "adatas_all_new,_,_,p_l_less,pr_ty_dict = markers_chord_plot(adatas_all,predict_label,predict_label_anno,major_dict)\n",
    "\n",
    "for ct in mj_types:\n",
    "    p_fe = [type_feature_cv[mod][ct] for mod in ['D','R']]\n",
    "    p_fe_idx = [np.in1d(adatas_all[i].var_names, p_fe[i]) for i in range(2)]\n",
    "\n",
    "\n",
    "    all_less_type = [ct]\n",
    "\n",
    "    if 'predicted_label_colors' not in adata_fused.uns.keys():\n",
    "        sc.pl.umap(adata_fused,color=['predicted_label'],palette='rainbow',show=False,title='')\n",
    "    colors_type = dict(zip(adata_fused.obs['predicted_label'].cat.categories,adata_fused.uns['predicted_label_colors']))\n",
    "    all_type_features = type_relevance_chord_plot(type_feature_shap_avg, p_fe, p_fe_idx, p_l_less,predict_label, colors_type, all_less_type,f'{technique}_{ct}',\n",
    "                                  pr_ty_dict,thres=0.0,only_show_good=True, linewidth=1, linecolormap='Reds', node_width=5,\n",
    "                                  potential_coloarmaps=['spring', 'summer', 'winter', 'autumn'])\n",
    "\n"
   ]
  },
  {
   "cell_type": "markdown",
   "metadata": {},
   "source": [
    "# cell type specific cross-modal feature-to-feature relevance"
   ]
  },
  {
   "cell_type": "code",
   "execution_count": null,
   "metadata": {},
   "outputs": [],
   "source": [
    "calculate_shap = False\n",
    "#Runtime of the program is 9307.601849794388\n",
    "cluster_prototype_0_1 = type_specific_mean(adata_atac,'label').to(device=model.device)\n",
    "# select a set of background_0_1 examples to take an expectation over\n",
    "background_0_1 = cluster_prototype_0_1\n",
    "\n",
    "test_type_0_1 = []\n",
    "test_type_0_1_label = []\n",
    "for bn in adata_atac.obs['batch'].unique():\n",
    "    adata_atac_bn = adata_atac[adata_atac.obs['batch']==bn]\n",
    "    cl_prot = type_specific_mean(adata_atac_bn,'label').to(device=model.device)\n",
    "    test_type_0_1.append(cl_prot)\n",
    "\n",
    "bc_prot = type_specific_mean(adata_atac,'batch').to(device=model.device)\n",
    "test_type_0_1.append(bc_prot)\n",
    "\n",
    "test_type_0_1.append(torch.tensor(adata_atac[adata_atac.obs.groupby('label').sample(n=13).index].X,device=model.device))\n",
    "test_type_0_1 = torch.vstack(test_type_0_1)   \n",
    "\n",
    "test_type_0_1 = torch.tensor(test_type_0_1,device=model.device)\n",
    "test_type_0_1_df = pd.DataFrame(test_type_0_1.cpu().numpy(),columns=adata_atac.var_names)\n",
    "\n",
    "root_save_path_relev = f'{root_save_path}/feature_relevance_0_1_batch_type_v2'#without v2 is the label prototype and batch prototype\n",
    "\n",
    "if calculate_shap:\n",
    "    start = time.time()\n",
    "    e_model_0_1 = shap.DeepExplainer(sub_0_1, background_0_1)\n",
    "    shap_values_0_1 = e_model_0_1.shap_values(test_type_0_1,check_additivity=True)\n",
    "    end = time.time()\n",
    "    print(f\"Runtime of the program is {end - start}\")\n",
    "    save_obj(root_save_path_relev,'ATAC2Generel',shap_values_0_1)\n",
    "else:\n",
    "    shap_values_0_1 = load_obj(root_save_path_relev,'ATAC2Generel',4000,test_type_0_1.shape)\n",
    "    \n",
    "\n"
   ]
  },
  {
   "cell_type": "code",
   "execution_count": null,
   "metadata": {},
   "outputs": [],
   "source": [
    "type_feature_cv_reorder = {}\n",
    "for mod_idx, mod_nm in enumerate(type_feature_cv.keys()):\n",
    "    for ctp in type_feature_cv[mod_nm].keys():\n",
    "        if ctp not in type_feature_cv_reorder.keys():\n",
    "            type_feature_cv_reorder[ctp] = {}\n",
    "        type_feature_cv_reorder[ctp][mod_idx] = type_feature_cv[mod_nm][ctp]\n"
   ]
  },
  {
   "cell_type": "code",
   "execution_count": null,
   "metadata": {},
   "outputs": [],
   "source": [
    "\n",
    "unique_ct = list(type_feature_cv_reorder.keys())\n",
    "\n",
    "var_names_all = [ad.var_names.values for ad in adatas_all]\n",
    "c_v_values_01, io_names_01 = feature_relevance_chord_plot(shap_values_0_1,unique_ct,var_names_all,\n",
    "                                                          type_feature_cv_reorder,f'{technique}_average',\n",
    "                                                          in_mod = 0,thres = None,\n",
    "                                potential_coloarmaps=['spring', 'summer', 'winter', 'autumn'])\n",
    "\n"
   ]
  },
  {
   "cell_type": "code",
   "execution_count": null,
   "metadata": {},
   "outputs": [],
   "source": []
  }
 ],
 "metadata": {
  "accelerator": "GPU",
  "colab": {
   "collapsed_sections": [
    "0XgI56L-6Us0"
   ],
   "provenance": []
  },
  "gpuClass": "premium",
  "kernelspec": {
   "display_name": "Python 3 (ipykernel)",
   "language": "python",
   "name": "python3"
  },
  "language_info": {
   "codemirror_mode": {
    "name": "ipython",
    "version": 3
   },
   "file_extension": ".py",
   "mimetype": "text/x-python",
   "name": "python",
   "nbconvert_exporter": "python",
   "pygments_lexer": "ipython3",
   "version": "3.7.13"
  }
 },
 "nbformat": 4,
 "nbformat_minor": 1
}
