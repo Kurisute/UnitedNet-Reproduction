{
 "cells": [
  {
   "cell_type": "code",
   "execution_count": 2,
   "metadata": {
    "collapsed": true,
    "ExecuteTime": {
     "end_time": "2023-08-01T01:59:05.127965403Z",
     "start_time": "2023-08-01T01:59:05.121752403Z"
    }
   },
   "outputs": [],
   "source": [
    "technique = 'muse'\n",
    "data_path = f\"../data/MUSE\"\n",
    "root_save_path = f\"../saved_results/{technique}\"\n",
    "device = \"cuda:0\""
   ]
  },
  {
   "cell_type": "code",
   "execution_count": 3,
   "outputs": [],
   "source": [
    "import anndata as ad\n",
    "import numpy as np\n",
    "import scanpy as sc\n",
    "import pandas as pd\n",
    "import torch\n",
    "\n",
    "import sys\n",
    "sys.path.append('..')\n",
    "from src.interface import UnitedNet\n",
    "from src.configs import *"
   ],
   "metadata": {
    "collapsed": false,
    "ExecuteTime": {
     "end_time": "2023-08-01T01:59:16.027377954Z",
     "start_time": "2023-08-01T01:59:05.849591612Z"
    }
   }
  },
  {
   "cell_type": "markdown",
   "source": [
    "# Dataset Inspection"
   ],
   "metadata": {
    "collapsed": false
   }
  },
  {
   "cell_type": "code",
   "execution_count": 4,
   "outputs": [
    {
     "name": "stdout",
     "output_type": "stream",
     "text": [
      "labels (200,)\n",
      "n_views ()\n",
      "view_0 (200, 500)\n",
      "view_1 (200, 500)\n"
     ]
    }
   ],
   "source": [
    "with np.load(data_path + '/simulation_data_0.1_datacv0_test.npz') as data:\n",
    "    datakeys = [k for k in data.keys()]\n",
    "    for k in datakeys:\n",
    "        print(k, data[k].shape)"
   ],
   "metadata": {
    "collapsed": false,
    "ExecuteTime": {
     "end_time": "2023-08-01T01:59:16.083122755Z",
     "start_time": "2023-08-01T01:59:16.029412754Z"
    }
   }
  },
  {
   "cell_type": "code",
   "execution_count": 5,
   "outputs": [
    {
     "name": "stdout",
     "output_type": "stream",
     "text": [
      "labels (800,)\n",
      "n_views ()\n",
      "view_0 (800, 500)\n",
      "view_1 (800, 500)\n"
     ]
    }
   ],
   "source": [
    "with np.load(data_path + '/simulation_data_0.1_datacv0_train.npz') as data:\n",
    "    datakeys = [k for k in data.keys()]\n",
    "    for k in datakeys:\n",
    "        print(k, data[k].shape)"
   ],
   "metadata": {
    "collapsed": false,
    "ExecuteTime": {
     "end_time": "2023-08-01T02:00:37.451431894Z",
     "start_time": "2023-08-01T02:00:37.403479394Z"
    }
   }
  },
  {
   "cell_type": "markdown",
   "source": [
    "# Load Data"
   ],
   "metadata": {
    "collapsed": false
   }
  },
  {
   "cell_type": "code",
   "execution_count": null,
   "outputs": [],
   "source": [],
   "metadata": {
    "collapsed": false
   }
  }
 ],
 "metadata": {
  "kernelspec": {
   "display_name": "Python 3",
   "language": "python",
   "name": "python3"
  },
  "language_info": {
   "codemirror_mode": {
    "name": "ipython",
    "version": 2
   },
   "file_extension": ".py",
   "mimetype": "text/x-python",
   "name": "python",
   "nbconvert_exporter": "python",
   "pygments_lexer": "ipython2",
   "version": "2.7.6"
  }
 },
 "nbformat": 4,
 "nbformat_minor": 0
}
